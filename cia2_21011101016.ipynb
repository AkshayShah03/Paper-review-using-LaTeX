{
 "cells": [
  {
   "cell_type": "code",
   "execution_count": 1,
   "metadata": {},
   "outputs": [],
   "source": [
    "import numpy as np\n",
    "import pandas as pd"
   ]
  },
  {
   "cell_type": "code",
   "execution_count": 3,
   "metadata": {},
   "outputs": [
    {
     "name": "stdout",
     "output_type": "stream",
     "text": [
      "Defaulting to user installation because normal site-packages is not writeable\n",
      "Collecting pmdarima\n",
      "  Downloading pmdarima-2.0.3-cp310-cp310-manylinux_2_17_x86_64.manylinux2014_x86_64.manylinux_2_28_x86_64.whl (1.8 MB)\n",
      "\u001b[2K     \u001b[90m━━━━━━━━━━━━━━━━━━━━━━━━━━━━━━━━━━━━━━━━\u001b[0m \u001b[32m1.8/1.8 MB\u001b[0m \u001b[31m4.8 MB/s\u001b[0m eta \u001b[36m0:00:00\u001b[0m00:01\u001b[0m00:01\u001b[0m0m\n",
      "\u001b[?25hRequirement already satisfied: joblib>=0.11 in /home/akshay/.local/lib/python3.10/site-packages (from pmdarima) (1.2.0)\n",
      "Collecting Cython!=0.29.18,!=0.29.31,>=0.29\n",
      "  Downloading Cython-0.29.34-cp310-cp310-manylinux_2_17_x86_64.manylinux2014_x86_64.manylinux_2_24_x86_64.whl (1.9 MB)\n",
      "\u001b[2K     \u001b[90m━━━━━━━━━━━━━━━━━━━━━━━━━━━━━━━━━━━━━━━━\u001b[0m \u001b[32m1.9/1.9 MB\u001b[0m \u001b[31m7.8 MB/s\u001b[0m eta \u001b[36m0:00:00\u001b[0m:00:01\u001b[0m00:01\u001b[0m\n",
      "\u001b[?25hRequirement already satisfied: scipy>=1.3.2 in /home/akshay/.local/lib/python3.10/site-packages (from pmdarima) (1.10.0)\n",
      "Requirement already satisfied: urllib3 in /home/akshay/.local/lib/python3.10/site-packages (from pmdarima) (1.26.13)\n",
      "Requirement already satisfied: numpy>=1.21.2 in /home/akshay/.local/lib/python3.10/site-packages (from pmdarima) (1.24.0)\n",
      "Collecting statsmodels>=0.13.2\n",
      "  Downloading statsmodels-0.13.5-cp310-cp310-manylinux_2_17_x86_64.manylinux2014_x86_64.whl (9.9 MB)\n",
      "\u001b[2K     \u001b[90m━━━━━━━━━━━━━━━━━━━━━━━━━━━━━━━━━━━━━━━━\u001b[0m \u001b[32m9.9/9.9 MB\u001b[0m \u001b[31m11.6 MB/s\u001b[0m eta \u001b[36m0:00:00\u001b[0m00:01\u001b[0m00:01\u001b[0m\n",
      "\u001b[?25hRequirement already satisfied: scikit-learn>=0.22 in /home/akshay/.local/lib/python3.10/site-packages (from pmdarima) (1.2.1)\n",
      "Requirement already satisfied: pandas>=0.19 in /home/akshay/.local/lib/python3.10/site-packages (from pmdarima) (1.5.2)\n",
      "Requirement already satisfied: setuptools!=50.0.0,>=38.6.0 in /home/akshay/.local/lib/python3.10/site-packages (from pmdarima) (65.6.3)\n",
      "Requirement already satisfied: python-dateutil>=2.8.1 in /home/akshay/.local/lib/python3.10/site-packages (from pandas>=0.19->pmdarima) (2.8.2)\n",
      "Requirement already satisfied: pytz>=2020.1 in /home/akshay/.local/lib/python3.10/site-packages (from pandas>=0.19->pmdarima) (2022.7)\n",
      "Requirement already satisfied: threadpoolctl>=2.0.0 in /home/akshay/.local/lib/python3.10/site-packages (from scikit-learn>=0.22->pmdarima) (3.1.0)\n",
      "Collecting patsy>=0.5.2\n",
      "  Downloading patsy-0.5.3-py2.py3-none-any.whl (233 kB)\n",
      "\u001b[2K     \u001b[90m━━━━━━━━━━━━━━━━━━━━━━━━━━━━━━━━━━━━━━━\u001b[0m \u001b[32m233.8/233.8 kB\u001b[0m \u001b[31m4.5 MB/s\u001b[0m eta \u001b[36m0:00:00\u001b[0ma \u001b[36m0:00:01\u001b[0m\n",
      "\u001b[?25hRequirement already satisfied: packaging>=21.3 in /usr/lib/python3.10/site-packages (from statsmodels>=0.13.2->pmdarima) (23.0)\n",
      "Requirement already satisfied: six in /usr/lib/python3.10/site-packages (from patsy>=0.5.2->statsmodels>=0.13.2->pmdarima) (1.16.0)\n",
      "Installing collected packages: patsy, Cython, statsmodels, pmdarima\n",
      "\u001b[33m  WARNING: The scripts cygdb, cython and cythonize are installed in '/home/akshay/.local/bin' which is not on PATH.\n",
      "  Consider adding this directory to PATH or, if you prefer to suppress this warning, use --no-warn-script-location.\u001b[0m\u001b[33m\n",
      "\u001b[0mSuccessfully installed Cython-0.29.34 patsy-0.5.3 pmdarima-2.0.3 statsmodels-0.13.5\n",
      "Note: you may need to restart the kernel to use updated packages.\n"
     ]
    }
   ],
   "source": [
    "pip install pmdarima"
   ]
  },
  {
   "cell_type": "code",
   "execution_count": 6,
   "metadata": {},
   "outputs": [],
   "source": [
    "data = pd.read_csv('KwhConsumptionBlower78_3.csv',index_col='TxnDate',parse_dates=True)"
   ]
  },
  {
   "cell_type": "code",
   "execution_count": 7,
   "metadata": {},
   "outputs": [
    {
     "data": {
      "text/html": [
       "<div>\n",
       "<style scoped>\n",
       "    .dataframe tbody tr th:only-of-type {\n",
       "        vertical-align: middle;\n",
       "    }\n",
       "\n",
       "    .dataframe tbody tr th {\n",
       "        vertical-align: top;\n",
       "    }\n",
       "\n",
       "    .dataframe thead th {\n",
       "        text-align: right;\n",
       "    }\n",
       "</style>\n",
       "<table border=\"1\" class=\"dataframe\">\n",
       "  <thead>\n",
       "    <tr style=\"text-align: right;\">\n",
       "      <th></th>\n",
       "      <th>Unnamed: 0</th>\n",
       "      <th>TxnTime</th>\n",
       "      <th>Consumption</th>\n",
       "    </tr>\n",
       "    <tr>\n",
       "      <th>TxnDate</th>\n",
       "      <th></th>\n",
       "      <th></th>\n",
       "      <th></th>\n",
       "    </tr>\n",
       "  </thead>\n",
       "  <tbody>\n",
       "    <tr>\n",
       "      <th>2022-02-01</th>\n",
       "      <td>0</td>\n",
       "      <td>14:41:48</td>\n",
       "      <td>1.016</td>\n",
       "    </tr>\n",
       "    <tr>\n",
       "      <th>2022-02-01</th>\n",
       "      <td>1</td>\n",
       "      <td>17:28:44</td>\n",
       "      <td>0.928</td>\n",
       "    </tr>\n",
       "    <tr>\n",
       "      <th>2022-02-01</th>\n",
       "      <td>2</td>\n",
       "      <td>19:51:07</td>\n",
       "      <td>0.988</td>\n",
       "    </tr>\n",
       "    <tr>\n",
       "      <th>2022-02-01</th>\n",
       "      <td>3</td>\n",
       "      <td>07:26:39</td>\n",
       "      <td>1.126</td>\n",
       "    </tr>\n",
       "    <tr>\n",
       "      <th>2022-02-01</th>\n",
       "      <td>4</td>\n",
       "      <td>05:20:47</td>\n",
       "      <td>0.886</td>\n",
       "    </tr>\n",
       "  </tbody>\n",
       "</table>\n",
       "</div>"
      ],
      "text/plain": [
       "            Unnamed: 0   TxnTime  Consumption\n",
       "TxnDate                                      \n",
       "2022-02-01           0  14:41:48        1.016\n",
       "2022-02-01           1  17:28:44        0.928\n",
       "2022-02-01           2  19:51:07        0.988\n",
       "2022-02-01           3  07:26:39        1.126\n",
       "2022-02-01           4  05:20:47        0.886"
      ]
     },
     "execution_count": 7,
     "metadata": {},
     "output_type": "execute_result"
    }
   ],
   "source": [
    "data.head()"
   ]
  },
  {
   "cell_type": "code",
   "execution_count": 8,
   "metadata": {},
   "outputs": [
    {
     "data": {
      "text/plain": [
       "<AxesSubplot: xlabel='TxnDate'>"
      ]
     },
     "execution_count": 8,
     "metadata": {},
     "output_type": "execute_result"
    },
    {
     "data": {
      "image/png": "[encoded data removed]",
      "text/plain": [
       "<Figure size 640x480 with 1 Axes>"
      ]
     },
     "metadata": {},
     "output_type": "display_data"
    }
   ],
   "source": [
    "data['Consumption'].plot()"
   ]
  },
  {
   "cell_type": "code",
   "execution_count": 9,
   "metadata": {},
   "outputs": [
    {
     "name": "stdout",
     "output_type": "stream",
     "text": [
      "1. ADF :  -4.908941905240831\n",
      "2. P-Value :  3.350330868366777e-05\n",
      "3. Num Of Lags :  14\n",
      "4. Num Of Observations Used For ADF Regression: 1733\n",
      "5. Critical Values :\n",
      "\t 1% :  -3.434129003198009\n",
      "\t 5% :  -2.863209218981072\n",
      "\t 10% :  -2.5676586444827656\n"
     ]
    }
   ],
   "source": [
    "from statsmodels.tsa.stattools import adfuller\n",
    "def ad_test(dataset):\n",
    "     dftest = adfuller(dataset, autolag = 'AIC')\n",
    "     print(\"1. ADF : \",dftest[0])\n",
    "     print(\"2. P-Value : \", dftest[1])\n",
    "     print(\"3. Num Of Lags : \", dftest[2])\n",
    "     print(\"4. Num Of Observations Used For ADF Regression:\",dftest[3])\n",
    "     print(\"5. Critical Values :\")\n",
    "     for key, val in dftest[4].items():\n",
    "         print(\"\\t\",key, \": \", val)\n",
    "ad_test(data['Consumption'])\n",
    "#p value < 0.05 (ideal for stationarity)"
   ]
  },
  {
   "cell_type": "code",
   "execution_count": 10,
   "metadata": {},
   "outputs": [
    {
     "name": "stdout",
     "output_type": "stream",
     "text": [
      "Performing stepwise search to minimize aic\n",
      " ARIMA(2,1,2)(0,0,0)[0] intercept   : AIC=7092.978, Time=1.21 sec\n",
      " ARIMA(0,1,0)(0,0,0)[0] intercept   : AIC=8238.170, Time=0.02 sec\n",
      " ARIMA(1,1,0)(0,0,0)[0] intercept   : AIC=7783.664, Time=0.05 sec\n",
      " ARIMA(0,1,1)(0,0,0)[0] intercept   : AIC=7101.497, Time=0.32 sec\n",
      " ARIMA(0,1,0)(0,0,0)[0]             : AIC=8236.170, Time=0.02 sec\n",
      " ARIMA(1,1,2)(0,0,0)[0] intercept   : AIC=7105.408, Time=0.15 sec\n",
      " ARIMA(2,1,1)(0,0,0)[0] intercept   : AIC=7093.877, Time=0.23 sec\n",
      " ARIMA(3,1,2)(0,0,0)[0] intercept   : AIC=inf, Time=0.58 sec\n",
      " ARIMA(2,1,3)(0,0,0)[0] intercept   : AIC=7093.487, Time=1.02 sec\n",
      " ARIMA(1,1,1)(0,0,0)[0] intercept   : AIC=7102.188, Time=0.16 sec\n",
      " ARIMA(1,1,3)(0,0,0)[0] intercept   : AIC=7093.849, Time=0.83 sec\n",
      " ARIMA(3,1,1)(0,0,0)[0] intercept   : AIC=7091.101, Time=0.27 sec\n",
      " ARIMA(3,1,0)(0,0,0)[0] intercept   : AIC=7382.789, Time=0.10 sec\n",
      " ARIMA(4,1,1)(0,0,0)[0] intercept   : AIC=7092.590, Time=0.45 sec\n",
      " ARIMA(2,1,0)(0,0,0)[0] intercept   : AIC=7557.177, Time=0.08 sec\n",
      " ARIMA(4,1,0)(0,0,0)[0] intercept   : AIC=7306.891, Time=0.16 sec\n",
      " ARIMA(4,1,2)(0,0,0)[0] intercept   : AIC=7094.429, Time=0.45 sec\n",
      " ARIMA(3,1,1)(0,0,0)[0]             : AIC=7089.102, Time=0.13 sec\n",
      " ARIMA(2,1,1)(0,0,0)[0]             : AIC=7091.877, Time=0.11 sec\n",
      " ARIMA(3,1,0)(0,0,0)[0]             : AIC=7380.789, Time=0.06 sec\n",
      " ARIMA(4,1,1)(0,0,0)[0]             : AIC=7090.590, Time=0.19 sec\n",
      " ARIMA(3,1,2)(0,0,0)[0]             : AIC=inf, Time=0.48 sec\n",
      " ARIMA(2,1,0)(0,0,0)[0]             : AIC=7555.177, Time=0.11 sec\n",
      " ARIMA(2,1,2)(0,0,0)[0]             : AIC=7090.978, Time=0.38 sec\n",
      " ARIMA(4,1,0)(0,0,0)[0]             : AIC=7304.891, Time=0.15 sec\n",
      " ARIMA(4,1,2)(0,0,0)[0]             : AIC=7092.365, Time=0.86 sec\n",
      "\n",
      "Best model:  ARIMA(3,1,1)(0,0,0)[0]          \n",
      "Total fit time: 8.687 seconds\n"
     ]
    }
   ],
   "source": [
    "from pmdarima import auto_arima\n",
    "stepwise_fit = auto_arima(data['Consumption'], trace=True,\n",
    "suppress_warnings=True)"
   ]
  },
  {
   "cell_type": "code",
   "execution_count": 11,
   "metadata": {},
   "outputs": [
    {
     "name": "stdout",
     "output_type": "stream",
     "text": [
      "(1748, 3)\n"
     ]
    }
   ],
   "source": [
    "print(data.shape) #from previous output, the best intercepts = 3,1,1"
   ]
  },
  {
   "cell_type": "code",
   "execution_count": 12,
   "metadata": {},
   "outputs": [
    {
     "name": "stdout",
     "output_type": "stream",
     "text": [
      "(1718, 3) (30, 3)\n"
     ]
    }
   ],
   "source": [
    "train=data.iloc[:-30]\n",
    "test=data.iloc[-30:]\n",
    "print(train.shape,test.shape)"
   ]
  },
  {
   "cell_type": "code",
   "execution_count": 14,
   "metadata": {},
   "outputs": [
    {
     "name": "stdout",
     "output_type": "stream",
     "text": [
      "Defaulting to user installation because normal site-packages is not writeable\n",
      "Requirement already satisfied: statsmodels in /home/akshay/.local/lib/python3.10/site-packages (0.13.5)\n",
      "Requirement already satisfied: patsy>=0.5.2 in /home/akshay/.local/lib/python3.10/site-packages (from statsmodels) (0.5.3)\n",
      "Requirement already satisfied: numpy>=1.17 in /home/akshay/.local/lib/python3.10/site-packages (from statsmodels) (1.24.0)\n",
      "Requirement already satisfied: packaging>=21.3 in /usr/lib/python3.10/site-packages (from statsmodels) (23.0)\n",
      "Requirement already satisfied: scipy>=1.3 in /home/akshay/.local/lib/python3.10/site-packages (from statsmodels) (1.10.0)\n",
      "Requirement already satisfied: pandas>=0.25 in /home/akshay/.local/lib/python3.10/site-packages (from statsmodels) (1.5.2)\n",
      "Requirement already satisfied: pytz>=2020.1 in /home/akshay/.local/lib/python3.10/site-packages (from pandas>=0.25->statsmodels) (2022.7)\n",
      "Requirement already satisfied: python-dateutil>=2.8.1 in /home/akshay/.local/lib/python3.10/site-packages (from pandas>=0.25->statsmodels) (2.8.2)\n",
      "Requirement already satisfied: six in /usr/lib/python3.10/site-packages (from patsy>=0.5.2->statsmodels) (1.16.0)\n",
      "Note: you may need to restart the kernel to use updated packages.\n"
     ]
    }
   ],
   "source": [
    "pip install statsmodels"
   ]
  },
  {
   "cell_type": "code",
   "execution_count": 19,
   "metadata": {},
   "outputs": [
    {
     "name": "stderr",
     "output_type": "stream",
     "text": [
      "/home/akshay/.local/lib/python3.10/site-packages/statsmodels/tsa/base/tsa_model.py:471: ValueWarning: A date index has been provided, but it has no associated frequency information and so will be ignored when e.g. forecasting.\n",
      "  self._init_dates(dates, freq)\n",
      "/home/akshay/.local/lib/python3.10/site-packages/statsmodels/tsa/base/tsa_model.py:471: ValueWarning: A date index has been provided, but it has no associated frequency information and so will be ignored when e.g. forecasting.\n",
      "  self._init_dates(dates, freq)\n",
      "/home/akshay/.local/lib/python3.10/site-packages/statsmodels/tsa/base/tsa_model.py:471: ValueWarning: A date index has been provided, but it has no associated frequency information and so will be ignored when e.g. forecasting.\n",
      "  self._init_dates(dates, freq)\n"
     ]
    },
    {
     "data": {
      "text/html": [
       "<table class=\"simpletable\">\n",
       "<caption>SARIMAX Results</caption>\n",
       "<tr>\n",
       "  <th>Dep. Variable:</th>      <td>Consumption</td>   <th>  No. Observations:  </th>   <td>1718</td>   \n",
       "</tr>\n",
       "<tr>\n",
       "  <th>Model:</th>            <td>ARIMA(3, 1, 1)</td>  <th>  Log Likelihood     </th> <td>-3493.486</td>\n",
       "</tr>\n",
       "<tr>\n",
       "  <th>Date:</th>            <td>Sat, 15 Apr 2023</td> <th>  AIC                </th> <td>6996.972</td> \n",
       "</tr>\n",
       "<tr>\n",
       "  <th>Time:</th>                <td>21:50:00</td>     <th>  BIC                </th> <td>7024.214</td> \n",
       "</tr>\n",
       "<tr>\n",
       "  <th>Sample:</th>                  <td>0</td>        <th>  HQIC               </th> <td>7007.052</td> \n",
       "</tr>\n",
       "<tr>\n",
       "  <th></th>                      <td> - 1718</td>     <th>                     </th>     <td> </td>    \n",
       "</tr>\n",
       "<tr>\n",
       "  <th>Covariance Type:</th>        <td>opg</td>       <th>                     </th>     <td> </td>    \n",
       "</tr>\n",
       "</table>\n",
       "<table class=\"simpletable\">\n",
       "<tr>\n",
       "     <td></td>       <th>coef</th>     <th>std err</th>      <th>z</th>      <th>P>|z|</th>  <th>[0.025</th>    <th>0.975]</th>  \n",
       "</tr>\n",
       "<tr>\n",
       "  <th>ar.L1</th>  <td>   -0.0649</td> <td>    0.021</td> <td>   -3.156</td> <td> 0.002</td> <td>   -0.105</td> <td>   -0.025</td>\n",
       "</tr>\n",
       "<tr>\n",
       "  <th>ar.L2</th>  <td>   -0.0990</td> <td>    0.020</td> <td>   -5.075</td> <td> 0.000</td> <td>   -0.137</td> <td>   -0.061</td>\n",
       "</tr>\n",
       "<tr>\n",
       "  <th>ar.L3</th>  <td>   -0.0588</td> <td>    0.021</td> <td>   -2.798</td> <td> 0.005</td> <td>   -0.100</td> <td>   -0.018</td>\n",
       "</tr>\n",
       "<tr>\n",
       "  <th>ma.L1</th>  <td>   -0.9005</td> <td>    0.011</td> <td>  -81.693</td> <td> 0.000</td> <td>   -0.922</td> <td>   -0.879</td>\n",
       "</tr>\n",
       "<tr>\n",
       "  <th>sigma2</th> <td>    3.4220</td> <td>    0.052</td> <td>   66.257</td> <td> 0.000</td> <td>    3.321</td> <td>    3.523</td>\n",
       "</tr>\n",
       "</table>\n",
       "<table class=\"simpletable\">\n",
       "<tr>\n",
       "  <th>Ljung-Box (L1) (Q):</th>     <td>0.00</td> <th>  Jarque-Bera (JB):  </th> <td>6489.96</td>\n",
       "</tr>\n",
       "<tr>\n",
       "  <th>Prob(Q):</th>                <td>0.99</td> <th>  Prob(JB):          </th>  <td>0.00</td>  \n",
       "</tr>\n",
       "<tr>\n",
       "  <th>Heteroskedasticity (H):</th> <td>2.26</td> <th>  Skew:              </th>  <td>2.11</td>  \n",
       "</tr>\n",
       "<tr>\n",
       "  <th>Prob(H) (two-sided):</th>    <td>0.00</td> <th>  Kurtosis:          </th>  <td>11.54</td> \n",
       "</tr>\n",
       "</table><br/><br/>Warnings:<br/>[1] Covariance matrix calculated using the outer product of gradients (complex-step)."
      ],
      "text/plain": [
       "<class 'statsmodels.iolib.summary.Summary'>\n",
       "\"\"\"\n",
       "                               SARIMAX Results                                \n",
       "==============================================================================\n",
       "Dep. Variable:            Consumption   No. Observations:                 1718\n",
       "Model:                 ARIMA(3, 1, 1)   Log Likelihood               -3493.486\n",
       "Date:                Sat, 15 Apr 2023   AIC                           6996.972\n",
       "Time:                        21:50:00   BIC                           7024.214\n",
       "Sample:                             0   HQIC                          7007.052\n",
       "                               - 1718                                         \n",
       "Covariance Type:                  opg                                         \n",
       "==============================================================================\n",
       "                 coef    std err          z      P>|z|      [0.025      0.975]\n",
       "------------------------------------------------------------------------------\n",
       "ar.L1         -0.0649      0.021     -3.156      0.002      -0.105      -0.025\n",
       "ar.L2         -0.0990      0.020     -5.075      0.000      -0.137      -0.061\n",
       "ar.L3         -0.0588      0.021     -2.798      0.005      -0.100      -0.018\n",
       "ma.L1         -0.9005      0.011    -81.693      0.000      -0.922      -0.879\n",
       "sigma2         3.4220      0.052     66.257      0.000       3.321       3.523\n",
       "===================================================================================\n",
       "Ljung-Box (L1) (Q):                   0.00   Jarque-Bera (JB):              6489.96\n",
       "Prob(Q):                              0.99   Prob(JB):                         0.00\n",
       "Heteroskedasticity (H):               2.26   Skew:                             2.11\n",
       "Prob(H) (two-sided):                  0.00   Kurtosis:                        11.54\n",
       "===================================================================================\n",
       "\n",
       "Warnings:\n",
       "[1] Covariance matrix calculated using the outer product of gradients (complex-step).\n",
       "\"\"\""
      ]
     },
     "execution_count": 19,
     "metadata": {},
     "output_type": "execute_result"
    }
   ],
   "source": [
    "from statsmodels.tsa.arima.model import ARIMA\n",
    "model=ARIMA(train['Consumption'],order=(3,1,1)) #from auto_Arima function, best intercept\n",
    "model=model.fit()\n",
    "model.summary() "
   ]
  },
  {
   "cell_type": "code",
   "execution_count": 20,
   "metadata": {},
   "outputs": [
    {
     "name": "stderr",
     "output_type": "stream",
     "text": [
      "/home/akshay/.local/lib/python3.10/site-packages/statsmodels/tsa/base/tsa_model.py:834: ValueWarning: No supported index is available. Prediction results will be given with an integer index beginning at `start`.\n",
      "  return get_prediction_index(\n"
     ]
    },
    {
     "data": {
      "text/plain": [
       "<AxesSubplot: xlabel='TxnDate'>"
      ]
     },
     "execution_count": 20,
     "metadata": {},
     "output_type": "execute_result"
    },
    {
     "data": {
      "image/png": "[encoded data removed]",
      "text/plain": [
       "<Figure size 640x480 with 1 Axes>"
      ]
     },
     "metadata": {},
     "output_type": "display_data"
    }
   ],
   "source": [
    "start=len(train)\n",
    "end=len(train)+len(test)-1\n",
    "pred=model.predict(start=start,end=end,typ='levels').rename('ARIMA Predictions')\n",
    "pred.plot(legend=True)\n",
    "test['Consumption'].plot(legend=True)"
   ]
  },
  {
   "cell_type": "code",
   "execution_count": null,
   "metadata": {},
   "outputs": [],
   "source": []
  }
 ],
 "metadata": {
  "kernelspec": {
   "display_name": "Python 3",
   "language": "python",
   "name": "python3"
  },
  "language_info": {
   "codemirror_mode": {
    "name": "ipython",
    "version": 3
   },
   "file_extension": ".py",
   "mimetype": "text/x-python",
   "name": "python",
   "nbconvert_exporter": "python",
   "pygments_lexer": "ipython3",
   "version": "3.10.10"
  },
  "orig_nbformat": 4,
  "vscode": {
   "interpreter": {
    "hash": "767d51c1340bd893661ea55ea3124f6de3c7a262a8b4abca0554b478b1e2ff90"
   }
  }
 },
 "nbformat": 4,
 "nbformat_minor": 2
}
